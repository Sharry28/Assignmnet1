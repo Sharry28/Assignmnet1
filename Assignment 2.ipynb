{
 "cells": [
  {
   "cell_type": "markdown",
   "metadata": {},
   "source": [
    "# Task 1-> 1.1\n",
    "\n",
    "## Write a Python Program to implement your own myreduce() function which works exactly like Python's built-in function reduce() "
   ]
  },
  {
   "cell_type": "markdown",
   "metadata": {},
   "source": [
    "Solution :: Below is the custom function 'myReduce'. it accepts two argumnets                                     \n",
    "1- funtion (sum or product) that needs to be apply on data set.                                                            \n",
    "2- Dataset (list)"
   ]
  },
  {
   "cell_type": "code",
   "execution_count": 21,
   "metadata": {},
   "outputs": [
    {
     "name": "stdout",
     "output_type": "stream",
     "text": [
      "Result is: 120\n"
     ]
    }
   ],
   "source": [
    "# ----------------Defined Sum Function-----------------------------------------\n",
    "def sum(n):\n",
    "    sum = 0\n",
    "    for i in n:\n",
    "        sum+=i\n",
    "    return sum\n",
    "#------------End of body Sum function-------------------------------------------\n",
    "\n",
    "# ----------------Defined productFunction--------------------------------------\n",
    "def product(n):\n",
    "    prd=1\n",
    "    for i in n:\n",
    "        prd*=i\n",
    "    return prd\n",
    "#--------End of body Product function-------------------------------------------\n",
    "\n",
    "n = [5,4,3,2,1]  # List declared\n",
    "\n",
    "\n",
    "#-----------------myReduce function body----------------------------\n",
    "def myReduce(method, nlist):\n",
    "    result=method(nlist)\n",
    "    return result\n",
    "\n",
    "#-----------------end of myReduce function body----------------------------\n",
    "\n",
    "result = myReduce(product, n) # calling function \n",
    "print ('Result is:',result)\n",
    "\n"
   ]
  },
  {
   "cell_type": "markdown",
   "metadata": {},
   "source": [
    "# Task 1-> 1.2\n",
    "\n",
    "## Write a Python program to implement your own myfilter() function which works exactly like Python's built-in function filter() "
   ]
  },
  {
   "cell_type": "markdown",
   "metadata": {},
   "source": [
    "Solution:::: myFilter function Will filter the elements greater than average of the list.\n"
   ]
  },
  {
   "cell_type": "code",
   "execution_count": 29,
   "metadata": {},
   "outputs": [
    {
     "name": "stdout",
     "output_type": "stream",
     "text": [
      "Average of list is:- 18.9\n",
      "[21, 25, 28, 35]\n"
     ]
    }
   ],
   "source": [
    "\n",
    "def myFilter(list1):\n",
    "    returnList = []\n",
    "    avg= sum(list1)/len(list1)\n",
    "    for i in list1:\n",
    "        if i> avg:\n",
    "            returnList.append(i)\n",
    "    else:\n",
    "        print('Average of list is:-',avg)\n",
    "    return returnList\n",
    "\n",
    "myList = [8,12,11,14,17,18,21,25,28,35]\n",
    "\n",
    "#print('Average of list is:-',avg)\n",
    "print(myFilter(myList))"
   ]
  },
  {
   "cell_type": "markdown",
   "metadata": {},
   "source": [
    "# Task 1->2\n",
    "Implement List comprehensions to produce the following lists.                                                              \n",
    "Write List comprehensions to produce the following Lists                                                                   \n",
    "['A', 'C', 'A', 'D', 'G', 'I', ’L’, ‘ D’] \n",
    "\n"
   ]
  },
  {
   "cell_type": "code",
   "execution_count": null,
   "metadata": {},
   "outputs": [],
   "source": []
  },
  {
   "cell_type": "markdown",
   "metadata": {},
   "source": [
    "### (a) To Print ::::   ['x', 'y', 'z', 'xx', 'yy', 'zz', 'xx', 'yy', 'zz', 'xxxx', 'yyyy', 'zzzz'] "
   ]
  },
  {
   "cell_type": "code",
   "execution_count": 37,
   "metadata": {},
   "outputs": [
    {
     "name": "stdout",
     "output_type": "stream",
     "text": [
      "['x', 'y', 'z', 'xx', 'yy', 'zz', 'xxx', 'yyy', 'zzz', 'xxxx', 'yyyy', 'zzzz']\n"
     ]
    }
   ],
   "source": [
    "l = ['x','y','z']\n",
    "newList = []\n",
    "for i in range(1,5):\n",
    "    for y in l:\n",
    "        newList.append(i*y)\n",
    "        \n",
    "print(newList)\n"
   ]
  },
  {
   "cell_type": "code",
   "execution_count": 104,
   "metadata": {},
   "outputs": [
    {
     "data": {
      "text/plain": [
       "['x', 'y', 'z', 'xx', 'yy', 'zz', 'xxx', 'yyy', 'zzz', 'xxxx', 'yyyy', 'zzzz']"
      ]
     },
     "execution_count": 104,
     "metadata": {},
     "output_type": "execute_result"
    }
   ],
   "source": [
    "l = [i*j for i in range(1,5) for j in ['x','y','z']]\n",
    "l"
   ]
  },
  {
   "cell_type": "code",
   "execution_count": 102,
   "metadata": {},
   "outputs": [
    {
     "data": {
      "text/plain": [
       "['x', 'xx', 'xxx', 'xxxx', 'y', 'yy', 'yyy', 'yyyy', 'z', 'zz', 'zzz', 'zzzz']"
      ]
     },
     "execution_count": 102,
     "metadata": {},
     "output_type": "execute_result"
    }
   ],
   "source": [
    "list11 = [i * j for j in ['x', 'y', 'z'] for i in range(1, 5)]\n",
    "list11"
   ]
  },
  {
   "cell_type": "markdown",
   "metadata": {},
   "source": [
    "### (b)To Print ::::   ['x', 'xx', 'xxx', 'xxxx', 'y', 'yy', 'yyy', 'yyyy', 'z', 'zz', 'zzz', 'zzzz'] "
   ]
  },
  {
   "cell_type": "code",
   "execution_count": 38,
   "metadata": {},
   "outputs": [
    {
     "name": "stdout",
     "output_type": "stream",
     "text": [
      "['x', 'xx', 'xxx', 'xxxx', 'y', 'yy', 'yyy', 'yyyy', 'z', 'zz', 'zzz', 'zzzz']\n"
     ]
    }
   ],
   "source": [
    "l = ['x','y','z']\n",
    "newList1 = []\n",
    "for i in l:\n",
    "    for y in range(1,5):\n",
    "        newList1.append(i*y)\n",
    "        \n",
    "print(newList1)\n"
   ]
  },
  {
   "cell_type": "markdown",
   "metadata": {},
   "source": [
    "### (c) To Print ::::: [[2], [3], [4], [3], [4], [5], [4], [5], [6]] "
   ]
  },
  {
   "cell_type": "code",
   "execution_count": 105,
   "metadata": {},
   "outputs": [
    {
     "name": "stdout",
     "output_type": "stream",
     "text": [
      "Output is: [[2], [3], [4], [3], [4], [5], [4], [5], [6]]\n"
     ]
    }
   ],
   "source": [
    "l5 = [[2],[3],[4]]\n",
    "for n in range(0,2):\n",
    "    for i in range(1,4):\n",
    "        s = l5[n][0]+i\n",
    "        l5.append([s])\n",
    "\n",
    "print('Output is:', l5 )"
   ]
  },
  {
   "cell_type": "code",
   "execution_count": 9,
   "metadata": {},
   "outputs": [
    {
     "data": {
      "text/plain": [
       "[[2], [3], [4], [3], [4], [5], [4], [5], [6], [5], [6], [7]]"
      ]
     },
     "execution_count": 9,
     "metadata": {},
     "output_type": "execute_result"
    }
   ],
   "source": [
    "list3 = [[i + j] for j in range(0,4) for i in range(2, 5)]\n",
    "list3"
   ]
  },
  {
   "cell_type": "markdown",
   "metadata": {},
   "source": [
    "### To Print ::::  [[2, 3, 4, 5], [3, 4, 5, 6], [4, 5, 6, 7], [5, 6, 7, 8]] "
   ]
  },
  {
   "cell_type": "code",
   "execution_count": 89,
   "metadata": {},
   "outputs": [
    {
     "name": "stdout",
     "output_type": "stream",
     "text": [
      "Output is: [[2, 3, 4, 5], [3, 4, 5, 6], [4, 5, 6, 7], [5, 6, 7, 8]]\n"
     ]
    }
   ],
   "source": [
    "l1 = [[2,3,4,5]]\n",
    "s=0\n",
    "templist = []\n",
    "for i in range(0,3):\n",
    "    templist = []\n",
    "    for j in range(1,5):\n",
    "        s = l1[0][i]+j\n",
    "        templist.append(s) \n",
    "    l1.append(templist)   \n",
    "print('Output is:', l1 )"
   ]
  },
  {
   "cell_type": "code",
   "execution_count": 16,
   "metadata": {},
   "outputs": [
    {
     "data": {
      "text/plain": [
       "[[2, 3, 4, 5], [3, 4, 5, 6], [4, 5, 6, 7], [5, 6, 7, 8]]"
      ]
     },
     "execution_count": 16,
     "metadata": {},
     "output_type": "execute_result"
    }
   ],
   "source": [
    "list4= [[i + j for i in range(0,4)] for j in range(2,6)]\n",
    "list4"
   ]
  },
  {
   "cell_type": "markdown",
   "metadata": {},
   "source": [
    "### To Print :::: [(1, 1), (2, 1), (3, 1), (1, 2), (2, 2), (3, 2), (1, 3), (2, 3), (3, 3)] "
   ]
  },
  {
   "cell_type": "code",
   "execution_count": 93,
   "metadata": {},
   "outputs": [
    {
     "name": "stdout",
     "output_type": "stream",
     "text": [
      "Output is:  [(1, 1), (1, 2), (1, 3), (2, 1), (2, 2), (2, 3), (3, 1), (3, 2), (3, 3)]\n"
     ]
    }
   ],
   "source": [
    "l2 = []\n",
    "for i in range(1,4):\n",
    "    for j in range(1,4):\n",
    "        tempTup=(i,j)\n",
    "        l2.append(tempTup)\n",
    "        \n",
    "print ('Output is: ',l2)\n",
    "    "
   ]
  },
  {
   "cell_type": "code",
   "execution_count": 17,
   "metadata": {},
   "outputs": [
    {
     "data": {
      "text/plain": [
       "[(1, 1), (1, 2), (1, 3), (2, 1), (2, 2), (2, 3), (3, 1), (3, 2), (3, 3)]"
      ]
     },
     "execution_count": 17,
     "metadata": {},
     "output_type": "execute_result"
    }
   ],
   "source": [
    "l6 = [(i,j) for i in range(1,4) for j in range(1,4)]\n",
    "l6"
   ]
  },
  {
   "cell_type": "markdown",
   "metadata": {},
   "source": [
    "# Task 1->3"
   ]
  },
  {
   "cell_type": "markdown",
   "metadata": {},
   "source": [
    "### Implement a function longestWord() that takes a list of words and returns the longest one. "
   ]
  },
  {
   "cell_type": "code",
   "execution_count": 97,
   "metadata": {},
   "outputs": [
    {
     "name": "stdout",
     "output_type": "stream",
     "text": [
      "Longest word is: kabaddiKabaddiKabaddi\n"
     ]
    }
   ],
   "source": [
    "def longestWord(wList):\n",
    "    strLen=1\n",
    "    for word in wList:\n",
    "        if len(word)>strLen:\n",
    "            strLen = len(word)\n",
    "            longestWord = word\n",
    "    return longestWord\n",
    "    \n",
    "\n",
    "wordList = ['go','home','fox','jumps','kabaddiKabaddiKabaddi','lazy','cappuccinno']\n",
    "\n",
    "result = longestWord(wordList)\n",
    "print('Longest word is:', result)\n",
    "\n"
   ]
  },
  {
   "cell_type": "markdown",
   "metadata": {},
   "source": [
    "# Task 2 -> 1.1 \n",
    "Write a Python Program(with class concepts) to find the area of the triangle using the below \n",
    "formula. \n",
    "area = (s*(s-a)*(s-b)*(s-c)) ** 0.5 \n",
    "Function to take the length of the sides of triangle from user should be defined in the parent \n",
    "\n",
    "class and function to calculate the area should be defined in subclass. "
   ]
  },
  {
   "cell_type": "code",
   "execution_count": 2,
   "metadata": {},
   "outputs": [
    {
     "name": "stdout",
     "output_type": "stream",
     "text": [
      "Input sides of trainge a,b,c seperated by ',' respectively : 4,8,16\n",
      "Area of traingle is (2.5097790913105884e-15+40.98780306383839j)\n",
      "\n",
      "\n",
      "Would you like to continue (y/n): n\n"
     ]
    }
   ],
   "source": [
    "class triangleDims:           # Primary class\n",
    "    def __init__(self,a,b,c):\n",
    "        self.a = a\n",
    "        self.b = b\n",
    "        self.c = c\n",
    "        \n",
    "        \n",
    "        \n",
    "class triangleArea(triangleDims): #subclass\n",
    "    def __init__(self, *args):\n",
    "        super(triangleArea, self).__init__(*args)\n",
    "        \n",
    "    def area(self):\n",
    "        self.s = (self.a + self.b + self.c)/2\n",
    "        self.area = (self.s*(self.s-self.a)*(self.s-self.b)*(self.s-self.c))**0.5\n",
    "        return self.area\n",
    "    \n",
    "    def __str__(self):\n",
    "        return \"Area of Traingel is : %d\", (self.area)\n",
    "\n",
    "\n",
    "ip = 'Y'\n",
    "\n",
    "while True:\n",
    "    a,b,c = map(int, input(\"Input sides of trainge a,b,c seperated by ',' respectively : \").split(','))\n",
    "    obj = triangleArea(a,b,c)\n",
    "    print('Area of traingle is', obj.area())\n",
    "    print('\\n')\n",
    "    ip = input('Would you like to continue (y/n): ')\n",
    "    if (ip == 'Y' or ip == 'y'):\n",
    "        continue\n",
    "    else:\n",
    "        break\n",
    "        \n",
    "    \n",
    "    "
   ]
  },
  {
   "cell_type": "markdown",
   "metadata": {},
   "source": [
    "# Task 2->1.2 \n",
    "Write a function filter_long_words() that takes a list of words and an integer n and returns the list \n",
    "of words that are longer than n.  "
   ]
  },
  {
   "cell_type": "code",
   "execution_count": 8,
   "metadata": {},
   "outputs": [
    {
     "name": "stdout",
     "output_type": "stream",
     "text": [
      "Input value of lenght over which list values to be returned: 2\n",
      "Final list is- ['man', 'woman', 'apple', 'banana', 'cat', 'cricket']\n"
     ]
    }
   ],
   "source": [
    "def filter_long_words(lst,lenght):\n",
    "    tempList = []\n",
    "    for i in lst:\n",
    "        if len(i) > lenght:\n",
    "            tempList.append(i)\n",
    "    return tempList\n",
    "\n",
    "n = ['man','woman','an','apple','banana','cat','cricket']\n",
    "l = int(input('Input value of lenght over which list values to be returned: '))\n",
    "\n",
    "returnedList = filter_long_words(n,l)\n",
    "print(f'Final list is- {returnedList}' )\n",
    "        "
   ]
  },
  {
   "cell_type": "markdown",
   "metadata": {},
   "source": [
    "# Task 2->2.1 \n",
    "Write a Python program using function concept that maps list of words into a list of integers \n",
    "representing the lengths of the corresponding words. \n",
    "Hint: If a list [ ab,cde,erty] is passed on to the python function output should come as [2,3,4] \n",
    "Here 2,3 and 4 are the lengths of the words in the list. \n",
    " "
   ]
  },
  {
   "cell_type": "code",
   "execution_count": 15,
   "metadata": {},
   "outputs": [
    {
     "name": "stdout",
     "output_type": "stream",
     "text": [
      "lenght of the list:- \n",
      "['man', 'woman', 'an', 'apple', 'banana', 'cat', 'cricket'] ---> [3, 5, 2, 5, 6, 3, 7]\n"
     ]
    }
   ],
   "source": [
    "def str2lenConverter(strList):\n",
    "    strListLen = []\n",
    "    for i in strList:\n",
    "        strListLen.append(len(i))\n",
    "    return strListLen\n",
    "\n",
    "n = ['man','woman','an','apple','banana','cat','cricket']\n",
    "\n",
    "strlen = str2lenConverter(n)\n",
    "print(f'lenght of the list:- \\n{n} ---> {strlen}')"
   ]
  },
  {
   "cell_type": "markdown",
   "metadata": {},
   "source": [
    "# Task 2->2.2\n",
    "Write a Python function which takes a character (i.e. a string of length 1) and returns True if it is \n",
    "a vowel, False otherwise. "
   ]
  },
  {
   "cell_type": "code",
   "execution_count": 20,
   "metadata": {},
   "outputs": [
    {
     "name": "stdout",
     "output_type": "stream",
     "text": [
      "Key in a charater to check if it is vowel or not:- a\n",
      "A Vowel\n",
      "Would you like to continue (y/n): y\n",
      "Key in a charater to check if it is vowel or not:- t\n",
      "Not a vowel\n",
      "Would you like to continue (y/n): y\n",
      "Key in a charater to check if it is vowel or not:- s\n",
      "Not a vowel\n",
      "Would you like to continue (y/n): y\n",
      "Key in a charater to check if it is vowel or not:- u\n",
      "A Vowel\n",
      "Would you like to continue (y/n): n\n"
     ]
    }
   ],
   "source": [
    "vowels = ['a','e','i','o','u','A','E','I','O','U']\n",
    "\n",
    "def findVowels(char):\n",
    "    status = ''\n",
    "    if char not in vowels:\n",
    "        print('Not a vowel')\n",
    "    else:\n",
    "        print('A Vowel')\n",
    "ip = ''\n",
    "\n",
    "while True:\n",
    "    ch = input('Key in a charater to check if it is vowel or not:- ')\n",
    "    findVowels(ch)\n",
    "    ip = input('Would you like to continue (y/n): ')\n",
    "    if (ip == 'Y' or ip == 'y'):\n",
    "        continue\n",
    "    else:\n",
    "        break"
   ]
  }
 ],
 "metadata": {
  "kernelspec": {
   "display_name": "Python 3",
   "language": "python",
   "name": "python3"
  },
  "language_info": {
   "codemirror_mode": {
    "name": "ipython",
    "version": 3
   },
   "file_extension": ".py",
   "mimetype": "text/x-python",
   "name": "python",
   "nbconvert_exporter": "python",
   "pygments_lexer": "ipython3",
   "version": "3.7.4"
  }
 },
 "nbformat": 4,
 "nbformat_minor": 2
}
